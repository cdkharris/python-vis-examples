{
 "cells": [
  {
   "cell_type": "code",
   "execution_count": 1,
   "id": "f62cf0c4-1f16-4ba2-992c-b15172d05bfb",
   "metadata": {},
   "outputs": [],
   "source": [
    "import matplotlib.pyplot as plt\n",
    "import matplotlib.dates as mdates\n",
    "import numpy as np"
   ]
  },
  {
   "cell_type": "markdown",
   "id": "ccdf8b27-4135-49e2-a86c-5798937019b4",
   "metadata": {},
   "source": [
    "Create the SpaceTimeSeries class, which will help organize the data."
   ]
  },
  {
   "cell_type": "code",
   "execution_count": 2,
   "id": "51f3e63f-f823-4552-bf81-449f43d9180e",
   "metadata": {},
   "outputs": [],
   "source": [
    "class SpaceTimeSeries:\n",
    "    \"\"\" A class to organize data that is a function of both space and time\n",
    "    \"\"\"\n",
    "    \n",
    "    def __init__(self, time, x, y, z):\n",
    "        self.npoints = len(time)\n",
    "        self.index = {}\n",
    "        self.index['time'] = []\n",
    "        self.index['pos'] = {}\n",
    "        self.index['pos']['x'] = []\n",
    "        self.index['pos']['y'] = []\n",
    "        self.index['pos']['z'] = []\n",
    "        self.add_index(time, x, y, z)\n",
    "        self.curves = {}\n",
    "        self.nrows = 0\n",
    "        self.ncurves = []\n",
    "        self.legend = {}\n",
    "    \n",
    "    def add_index(self, time, x, y, z):\n",
    "        \"\"\" Add the time and position indices.\n",
    "        Some validation should be added to check that these all have the same number of points, etc.\n",
    "        \"\"\"\n",
    "        self.index['time'] = time\n",
    "        self.index['pos']['x'] = x\n",
    "        self.index['pos']['y'] = y\n",
    "        self.index['pos']['z'] = z\n",
    "    \n",
    "    def add_curve(self, group, label, yvals):\n",
    "        \"\"\" Ddd a curve to the dict, update some numbers and the labels.\n",
    "        \"\"\"\n",
    "        self.curves.setdefault(group,{})\n",
    "        self.curves[group][label] = yvals\n",
    "        self.nrows = len(self.curves)\n",
    "        self.ncurves = [len(self.curves[group]) for group in self.curves]\n",
    "        self.legend.setdefault(group,[])\n",
    "        self.legend[group].append(label)\n"
   ]
  },
  {
   "cell_type": "markdown",
   "id": "294109b5-7f00-44d1-ba46-6e167381ce16",
   "metadata": {},
   "source": [
    "Define a function that uses a SpaceTimeSeries object to generate a plot."
   ]
  },
  {
   "cell_type": "code",
   "execution_count": 3,
   "id": "26874d44-d46f-48db-bf73-8d857c25b593",
   "metadata": {},
   "outputs": [],
   "source": [
    "def spacetimeseries_plot(spacetimeseries):\n",
    "    \"\"\" make a plot from a spacetimeseries object\n",
    "    \"\"\"\n",
    "    \n",
    "    ## set up some parameters for the plot\n",
    "    npts = spacetimeseries.index['time'].shape[0]\n",
    "    nrows = spacetimeseries.nrows\n",
    "    groups = list(spacetimeseries.curves.keys())\n",
    "    ncurves = spacetimeseries.ncurves\n",
    "    lines = []\n",
    "\n",
    "    ## get the figure and axes objects\n",
    "    fig,axs = plt.subplots(\n",
    "        sharex=True,\n",
    "        nrows=nrows\n",
    "    )\n",
    "\n",
    "    ## plot the data, keep the 2DLine objects, and set the labels \n",
    "    for i,ncurve in zip(range(nrows), ncurves):\n",
    "        for j in range(ncurve):\n",
    "            leglabel = spacetimeseries.legend[groups[i]][j]\n",
    "            line = axs[i].plot(\n",
    "                    spacetimeseries.curves[groups[i]][leglabel],\n",
    "                    label=leglabel\n",
    "                )\n",
    "            lines.append(line)\n",
    "        axs[i].set_ylabel(groups[i])\n",
    "\n",
    "    ## set up the spacetime ticks\n",
    "    locs = axs[-1].get_xticks() # indices\n",
    "    locs = locs[locs >= 0.0]\n",
    "    locs = locs[locs <= npts]\n",
    "\n",
    "    labels = [\n",
    "        f'{t[11:]}\\n{x:3.2f}\\n{y:3.2f}\\n{z:3.2f}'\n",
    "            for t,x,y,z in\n",
    "                zip(\n",
    "                    np.datetime_as_string(spacetimeseries.index['time'][locs.astype(int)],'s'),\n",
    "                    spacetimeseries.index['pos']['x'][locs.astype(int)],\n",
    "                    spacetimeseries.index['pos']['y'][locs.astype(int)],\n",
    "                    spacetimeseries.index['pos']['z'][locs.astype(int)]\n",
    "            )\n",
    "    ]\n",
    "    axs[-1].set_xticklabels([''] + labels + [''])\n",
    "\n",
    "    ## label the spacetime ticks\n",
    "    axs[-1].text(\n",
    "        -.05,\n",
    "        -.07,\n",
    "        np.datetime_as_string(spacetimeseries.index['time'][0],'D')+'\\nX\\nY\\nZ',\n",
    "        horizontalalignment='right',\n",
    "        verticalalignment='top',\n",
    "        transform=axs[-1].transAxes\n",
    "    )\n",
    "    return fig, axs, lines"
   ]
  },
  {
   "cell_type": "markdown",
   "id": "395706ac-87c7-4c99-abd9-36255b8595e6",
   "metadata": {},
   "source": [
    "Create some curves which are a function of space and time."
   ]
  },
  {
   "cell_type": "code",
   "execution_count": 4,
   "id": "f2a67b4c-d2ff-43fd-ab10-a7f383d227c2",
   "metadata": {},
   "outputs": [],
   "source": [
    "npoints = 65\n",
    "x_ut = np.arange('2005-02-25T03:30:05', '2005-02-25T03:31:10', dtype='datetime64[s]')\n",
    "x_xpos = np.linspace(0.0,1.0,npoints)\n",
    "x_ypos = np.linspace(0.0,5.0,npoints)\n",
    "x_zpos = np.zeros(npoints) + 0.003\n",
    "\n",
    "y1_1 = .75 * np.exp(-1 * (x_xpos - 0.50)**2/(2 * 0.10**2)) + .6  * np.exp(-1 * (x_xpos - 0.75)**2/(2 * 0.07**2)) - .6 * np.exp(-1 * (x_xpos - 0.40)**2/(2 * 0.20**2))\n",
    "y1_2 = 0.8 * (.75 * np.exp(-1 * (x_xpos - 0.50)**2/(2 * 0.10**2)) + .6  * np.exp(-1 * (x_xpos - 0.75)**2/(2 * 0.07**2)) - .6 * np.exp(-1 * (x_xpos - 0.40)**2/(2 * 0.20**2)))\n",
    "y2 = -.75 * np.exp(-1 * (x_xpos - 0.50)**2/(2 * 0.10**2)) - .6  * np.exp(-1 * (x_xpos - 0.75)**2/(2 * 0.07**2))\n",
    "y3 = .6  * np.exp(-1 * (x_xpos - 0.75)**2/(2 * 0.07**2))"
   ]
  },
  {
   "cell_type": "markdown",
   "id": "c27e6d3c-a577-4e00-89f3-e3b4323e788b",
   "metadata": {},
   "source": [
    "Initialize a SpaceTimeSeries instance and add the data to it."
   ]
  },
  {
   "cell_type": "code",
   "execution_count": 5,
   "id": "902450eb-0c88-4483-a57f-f60b92c61162",
   "metadata": {},
   "outputs": [],
   "source": [
    "data = SpaceTimeSeries(time=x_ut,x=x_xpos,y=x_ypos,z=x_zpos)\n",
    "data.add_curve('y1','y1_1',y1_1)\n",
    "data.add_curve('y1','y1_2',y1_2)\n",
    "data.add_curve('y2','y2',y2)"
   ]
  },
  {
   "cell_type": "markdown",
   "id": "2bc8e88e-da69-4c01-b181-da65ec27cc13",
   "metadata": {},
   "source": [
    "Plot the data, and modify the lines and axes."
   ]
  },
  {
   "cell_type": "code",
   "execution_count": 6,
   "id": "bfd3d4cd-e46e-4951-9a67-c070507d1496",
   "metadata": {},
   "outputs": [
    {
     "name": "stderr",
     "output_type": "stream",
     "text": [
      "/var/folders/dc/md9grtsn6yngh5zxt7n1stgc0000gr/T/ipykernel_81233/1882197128.py:44: UserWarning: FixedFormatter should only be used together with FixedLocator\n",
      "  axs[-1].set_xticklabels([''] + labels + [''])\n"
     ]
    },
    {
     "data": {
      "text/plain": [
       "<matplotlib.legend.Legend at 0x7fd0f93480d0>"
      ]
     },
     "execution_count": 6,
     "metadata": {},
     "output_type": "execute_result"
    },
    {
     "data": {
      "image/png": "[encoded data removed]",
      "text/plain": [
       "<Figure size 432x288 with 2 Axes>"
      ]
     },
     "metadata": {
      "needs_background": "light"
     },
     "output_type": "display_data"
    }
   ],
   "source": [
    "fig,axs,lines = spacetimeseries_plot(data)\n",
    "\n",
    "lines[2][0].set_linestyle('--')\n",
    "lines[2][0].set_color('k')\n",
    "axs[0].legend()"
   ]
  },
  {
   "cell_type": "markdown",
   "id": "576b9a62-78ca-4253-9fff-dbf9293c6458",
   "metadata": {},
   "source": [
    "Some caveats remain:\n",
    "- I haven't built anything in to help modify the x-range after the plot is created. I think this will disturb the ticks, which are the whole reason I did this example. I recommend cropping the data before creating the SpaceTimeSeries object.\n",
    "- I didn't work out how to exactly match the vertical alignment of the tick labels to the ticks themselves. This is hardcoded into the plotting function, so I'm sure it will break when the size of the plot is different. I'm sure there's a way to do it, so if you know please make a suggestion."
   ]
  },
  {
   "cell_type": "code",
   "execution_count": null,
   "id": "16b15022-4d0f-45c1-a566-fc20a592e25e",
   "metadata": {},
   "outputs": [],
   "source": []
  }
 ],
 "metadata": {
  "kernelspec": {
   "display_name": "Python 3 (ipykernel)",
   "language": "python",
   "name": "python3"
  },
  "language_info": {
   "codemirror_mode": {
    "name": "ipython",
    "version": 3
   },
   "file_extension": ".py",
   "mimetype": "text/x-python",
   "name": "python",
   "nbconvert_exporter": "python",
   "pygments_lexer": "ipython3",
   "version": "3.9.12"
  }
 },
 "nbformat": 4,
 "nbformat_minor": 5
}
